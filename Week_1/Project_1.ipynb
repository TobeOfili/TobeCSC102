{
 "cells": [
  {
   "cell_type": "code",
   "execution_count": 1,
   "id": "b9ba9c97",
   "metadata": {},
   "outputs": [
    {
     "name": "stdout",
     "output_type": "stream",
     "text": [
      "Enter your principal:1000\n",
      "Enter your rate:10\n",
      "Enter the number of years :10\n",
      "The simple interest is: 2000.0\n"
     ]
    }
   ],
   "source": [
    "# Simple interest\n",
    "principal = int(input(\"Enter your principal:\"))\n",
    "rate = int(input(\"Enter your rate:\"))\n",
    "time = int(input(\"Enter the number of years :\"))\n",
    "Amount = principal * (1 + ((rate/100) * time))\n",
    "print(\"The simple interest is:\", Amount)"
   ]
  },
  {
   "cell_type": "code",
   "execution_count": 4,
   "id": "0511cfaf",
   "metadata": {},
   "outputs": [
    {
     "name": "stdout",
     "output_type": "stream",
     "text": [
      "Enter your principal:1000\n",
      "Enter your rate:5\n",
      "Enter the number of periods:1\n",
      "Enter the number of years:5\n",
      "The compound interest is: 1276.2815625000003\n"
     ]
    }
   ],
   "source": [
    "# Compound interest\n",
    "principal = int(input(\"Enter your principal:\"))\n",
    "rate = int(input(\"Enter your rate:\"))\n",
    "periods = int(input(\"Enter the number of periods:\"))\n",
    "time = int(input(\"Enter the number of years:\"))\n",
    "R = rate/100\n",
    "Amount = principal * ((1 + R/periods) ** (periods * time))\n",
    "\n",
    "print(\"The compound interest is:\", Amount)\n"
   ]
  },
  {
   "cell_type": "code",
   "execution_count": 6,
   "id": "d7bd1101",
   "metadata": {},
   "outputs": [
    {
     "name": "stdout",
     "output_type": "stream",
     "text": [
      "Enter your regular payment:1000\n",
      "Enter your rate:5\n",
      "Enter the number of periods:1\n",
      "Enter the number of years:5\n",
      "The annuity is: 5525.631250000007\n"
     ]
    }
   ],
   "source": [
    "# Annuity\n",
    "payment = int(input(\"Enter your regular payment:\"))\n",
    "rate = int(input(\"Enter your rate:\"))\n",
    "periods = int(input(\"Enter the number of periods:\"))\n",
    "time = int(input(\"Enter the number of years:\"))\n",
    "R = rate/100\n",
    "Amount = payment * (( ((1 + R/periods) ** (periods * time)) - 1 )/(R/periods) )\n",
    "\n",
    "print(\"The annuity is:\", Amount)\n"
   ]
  },
  {
   "cell_type": "code",
   "execution_count": null,
   "id": "38e1df77",
   "metadata": {},
   "outputs": [],
   "source": []
  }
 ],
 "metadata": {
  "kernelspec": {
   "display_name": "Python 3 (ipykernel)",
   "language": "python",
   "name": "python3"
  },
  "language_info": {
   "codemirror_mode": {
    "name": "ipython",
    "version": 3
   },
   "file_extension": ".py",
   "mimetype": "text/x-python",
   "name": "python",
   "nbconvert_exporter": "python",
   "pygments_lexer": "ipython3",
   "version": "3.10.9"
  }
 },
 "nbformat": 4,
 "nbformat_minor": 5
}

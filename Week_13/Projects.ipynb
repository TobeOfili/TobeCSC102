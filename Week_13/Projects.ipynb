{
 "cells": [
  {
   "cell_type": "markdown",
   "id": "095ccd21",
   "metadata": {},
   "source": [
    "# Project 1"
   ]
  },
  {
   "cell_type": "code",
   "execution_count": 17,
   "id": "4e8b86a3",
   "metadata": {},
   "outputs": [
    {
     "name": "stdout",
     "output_type": "stream",
     "text": [
      "Enter your name: Ebuka\n",
      "Enter your matriculation number: WE13e232313\n",
      "Enter your department: CSC\n",
      "Enter your level: 233\n",
      "\n",
      "\n",
      "    Name    Matric.No Department  Level\n",
      "0  Ebuka  WE13e232313        CSC    233\n"
     ]
    }
   ],
   "source": [
    "import pandas as pd\n",
    "class SIMS : \n",
    "\n",
    "    student_name = input(\"Enter your name: \")\n",
    "    matric_no = input(\"Enter your matriculation number: \")\n",
    "    department = input(\"Enter your department: \")\n",
    "    level = int(input(\"Enter your level: \"))\n",
    "\n",
    "\n",
    "    record = {\"Name\" : [student_name], \"Matric.No\" : [matric_no] , \"Department\" : [department], \"Level\" : [level]}\n",
    "    df = pd.DataFrame(record)\n",
    "    df.to_csv('PAU_SIMS.csv')\n",
    "    print(\"\\n\")\n",
    "    print(df)        \n",
    "\n"
   ]
  },
  {
   "cell_type": "markdown",
   "id": "f0febbce",
   "metadata": {},
   "source": [
    "# Project 2"
   ]
  },
  {
   "cell_type": "code",
   "execution_count": 29,
   "id": "47e6210a",
   "metadata": {},
   "outputs": [
    {
     "data": {
      "text/html": [
       "<div>\n",
       "<style scoped>\n",
       "    .dataframe tbody tr th:only-of-type {\n",
       "        vertical-align: middle;\n",
       "    }\n",
       "\n",
       "    .dataframe tbody tr th {\n",
       "        vertical-align: top;\n",
       "    }\n",
       "\n",
       "    .dataframe thead th {\n",
       "        text-align: right;\n",
       "    }\n",
       "</style>\n",
       "<table border=\"1\" class=\"dataframe\">\n",
       "  <thead>\n",
       "    <tr style=\"text-align: right;\">\n",
       "      <th></th>\n",
       "      <th>Name</th>\n",
       "      <th>Founding Date</th>\n",
       "      <th>Assets</th>\n",
       "      <th>Liabilities</th>\n",
       "      <th>Percentage Leverage (%)</th>\n",
       "    </tr>\n",
       "  </thead>\n",
       "  <tbody>\n",
       "    <tr>\n",
       "      <th>0</th>\n",
       "      <td>Enron</td>\n",
       "      <td>1987</td>\n",
       "      <td>1000000</td>\n",
       "      <td>200000</td>\n",
       "      <td>80.000000</td>\n",
       "    </tr>\n",
       "    <tr>\n",
       "      <th>1</th>\n",
       "      <td>Anderson</td>\n",
       "      <td>1936</td>\n",
       "      <td>1500000</td>\n",
       "      <td>500000</td>\n",
       "      <td>66.666667</td>\n",
       "    </tr>\n",
       "    <tr>\n",
       "      <th>2</th>\n",
       "      <td>GK Jones</td>\n",
       "      <td>2001</td>\n",
       "      <td>3000000</td>\n",
       "      <td>1500000</td>\n",
       "      <td>50.000000</td>\n",
       "    </tr>\n",
       "    <tr>\n",
       "      <th>3</th>\n",
       "      <td>Mica</td>\n",
       "      <td>1996</td>\n",
       "      <td>250000</td>\n",
       "      <td>50000</td>\n",
       "      <td>80.000000</td>\n",
       "    </tr>\n",
       "    <tr>\n",
       "      <th>4</th>\n",
       "      <td>Dune</td>\n",
       "      <td>2008</td>\n",
       "      <td>800000</td>\n",
       "      <td>300000</td>\n",
       "      <td>62.500000</td>\n",
       "    </tr>\n",
       "  </tbody>\n",
       "</table>\n",
       "</div>"
      ],
      "text/plain": [
       "       Name  Founding Date   Assets  Liabilities  Percentage Leverage (%)\n",
       "0     Enron           1987  1000000       200000                80.000000\n",
       "1  Anderson           1936  1500000       500000                66.666667\n",
       "2  GK Jones           2001  3000000      1500000                50.000000\n",
       "3      Mica           1996   250000        50000                80.000000\n",
       "4      Dune           2008   800000       300000                62.500000"
      ]
     },
     "execution_count": 29,
     "metadata": {},
     "output_type": "execute_result"
    }
   ],
   "source": [
    "import pandas as pd\n",
    "class corporation :\n",
    "    company = { \"Name\" : [\"Enron\",\"Anderson\",\"GK Jones\",\"Mica\",\"Dune\"]  ,\n",
    "          \"Founding Date\" : [1987,1936,2001,1996,2008],\n",
    "          \"Assets\" : [1000000,1500000,3000000,250000,800000],\n",
    "          \"Liabilities\" : [200000,500000,1500000,50000,300000] ,\n",
    "          \"Percentage Leverage (%)\" : []}\n",
    "\n",
    "    for i in range(len(company[\"Assets\"])):\n",
    "        assets = company[\"Assets\"][i]\n",
    "        liabilities = company[\"Liabilities\"][i]\n",
    "        leverage = (assets - liabilities)*100 / assets \n",
    "        company[\"Percentage Leverage (%)\"].append(leverage)\n",
    "\n",
    "    df = pd.DataFrame(company)\n",
    "    df.to_csv(\"Corporation_data.csv\")\n",
    "df"
   ]
  },
  {
   "cell_type": "code",
   "execution_count": null,
   "id": "0a9c9711",
   "metadata": {},
   "outputs": [],
   "source": []
  },
  {
   "cell_type": "code",
   "execution_count": null,
   "id": "cbf9e9ab",
   "metadata": {},
   "outputs": [],
   "source": []
  }
 ],
 "metadata": {
  "kernelspec": {
   "display_name": "Python 3 (ipykernel)",
   "language": "python",
   "name": "python3"
  },
  "language_info": {
   "codemirror_mode": {
    "name": "ipython",
    "version": 3
   },
   "file_extension": ".py",
   "mimetype": "text/x-python",
   "name": "python",
   "nbconvert_exporter": "python",
   "pygments_lexer": "ipython3",
   "version": "3.10.9"
  }
 },
 "nbformat": 4,
 "nbformat_minor": 5
}

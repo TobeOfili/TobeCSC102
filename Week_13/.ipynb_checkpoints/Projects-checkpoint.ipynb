{
 "cells": [
  {
   "cell_type": "markdown",
   "id": "84e22606",
   "metadata": {},
   "source": [
    "# Project 1"
   ]
  },
  {
   "cell_type": "code",
   "execution_count": 17,
   "id": "1fcb4acc",
   "metadata": {},
   "outputs": [
    {
     "name": "stdout",
     "output_type": "stream",
     "text": [
      "Enter your name: Ebuka\n",
      "Enter your matriculation number: WE13e232313\n",
      "Enter your department: CSC\n",
      "Enter your level: 233\n",
      "\n",
      "\n",
      "    Name    Matric.No Department  Level\n",
      "0  Ebuka  WE13e232313        CSC    233\n"
     ]
    }
   ],
   "source": [
    "import pandas as pd\n",
    "class SIMS : \n",
    "\n",
    "    student_name = input(\"Enter your name: \")\n",
    "    matric_no = input(\"Enter your matriculation number: \")\n",
    "    department = input(\"Enter your department: \")\n",
    "    level = int(input(\"Enter your level: \"))\n",
    "\n",
    "\n",
    "    record = {\"Name\" : [student_name], \"Matric.No\" : [matric_no] , \"Department\" : [department], \"Level\" : [level]}\n",
    "    df = pd.DataFrame(record)\n",
    "    df.to_csv('PAU_SIMS.csv')\n",
    "    print(\"\\n\")\n",
    "    print(df)        \n",
    "\n"
   ]
  },
  {
   "cell_type": "markdown",
   "id": "6f6858ba",
   "metadata": {},
   "source": [
    "# Project 2"
   ]
  },
  {
   "cell_type": "code",
   "execution_count": 24,
   "id": "056da327",
   "metadata": {},
   "outputs": [
    {
     "name": "stdout",
     "output_type": "stream",
     "text": [
      "       Name  Founding Date   Assets  Liabilities  Percentage Leverage (%)\n",
      "0     Enron           1987  1000000       200000                80.000000\n",
      "1  Anderson           1936  1500000       500000                66.666667\n",
      "2  GK Jones           2001  3000000      1500000                50.000000\n",
      "3      Mica           1996   250000        50000                80.000000\n",
      "4      Dune           2008   800000       300000                62.500000\n"
     ]
    }
   ],
   "source": [
    "import pandas as pd\n",
    "class corporation :\n",
    "    company = { \"Name\" : [\"Enron\",\"Anderson\",\"GK Jones\",\"Mica\",\"Dune\"]  ,\n",
    "          \"Founding Date\" : [1987,1936,2001,1996,2008],\n",
    "          \"Assets\" : [1000000,1500000,3000000,250000,800000],\n",
    "          \"Liabilities\" : [200000,500000,1500000,50000,300000] ,\n",
    "          \"Percentage Leverage (%)\" : []}\n",
    "\n",
    "    for i in range(len(company[\"Assets\"])):\n",
    "        assets = company[\"Assets\"][i]\n",
    "        liabilities = company[\"Liabilities\"][i]\n",
    "        leverage = (assets - liabilities)*100 / assets \n",
    "        company[\"Percentage Leverage (%)\"].append(leverage)\n",
    "\n",
    "    df = pd.DataFrame(company)\n",
    "    print(df)\n"
   ]
  },
  {
   "cell_type": "code",
   "execution_count": null,
   "id": "d96ae5b4",
   "metadata": {},
   "outputs": [],
   "source": []
  },
  {
   "cell_type": "code",
   "execution_count": null,
   "id": "af5e6f09",
   "metadata": {},
   "outputs": [],
   "source": []
  }
 ],
 "metadata": {
  "kernelspec": {
   "display_name": "Python 3 (ipykernel)",
   "language": "python",
   "name": "python3"
  },
  "language_info": {
   "codemirror_mode": {
    "name": "ipython",
    "version": 3
   },
   "file_extension": ".py",
   "mimetype": "text/x-python",
   "name": "python",
   "nbconvert_exporter": "python",
   "pygments_lexer": "ipython3",
   "version": "3.10.9"
  }
 },
 "nbformat": 4,
 "nbformat_minor": 5
}

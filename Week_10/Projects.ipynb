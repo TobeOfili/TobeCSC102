{
 "cells": [
  {
   "cell_type": "markdown",
   "id": "3b3815d3",
   "metadata": {},
   "source": [
    "# Project 1"
   ]
  },
  {
   "cell_type": "code",
   "execution_count": 4,
   "id": "3543d973",
   "metadata": {},
   "outputs": [
    {
     "name": "stdout",
     "output_type": "stream",
     "text": [
      "How many oranges do you want? 23\n",
      "Your total cost is 5750\n"
     ]
    }
   ],
   "source": [
    "class OrangeSeller:\n",
    "    \n",
    "    def price_calc(self, no, price):\n",
    "        cost = no * price\n",
    "        print(f\"Your total cost is {cost}\")\n",
    "        \n",
    "seller = OrangeSeller()\n",
    "orange_no = int(input(\"How many oranges do you want? \"))\n",
    "stock_quantity = 25\n",
    "price = 250\n",
    "\n",
    "while orange_no > stock_quantity:\n",
    "    print(\"Out of stock\")\n",
    "    orange_no = int(input(\"How many oranges do you want? \"))\n",
    "\n",
    "seller.price_calc(orange_no, price)"
   ]
  },
  {
   "cell_type": "markdown",
   "id": "0ebab077",
   "metadata": {},
   "source": [
    "# Project 2"
   ]
  },
  {
   "cell_type": "code",
   "execution_count": 3,
   "id": "271dc022",
   "metadata": {},
   "outputs": [
    {
     "name": "stdout",
     "output_type": "stream",
     "text": [
      "Areas of shapes calulator\n",
      "Choose a shape: \n",
      "1.)Trapezium \n",
      "2.)Rhombus \n",
      "3.Parallelogram \n",
      "4.)Cube \n",
      "5.)Cylinder \n",
      "\n",
      "3\n",
      "What is your base: 4\n",
      "What is your altitude: 5\n",
      "The area of the parallelogram is: 20\n"
     ]
    }
   ],
   "source": [
    "class Calculator:\n",
    "    def trapezium(self, height, base1, base2):\n",
    "        area = (height / 2) * (base1 + base2)\n",
    "        print(f\"The area of the trapezium is: {area}\")\n",
    "\n",
    "    def rhombus(self, diagonal1, diagonal2):\n",
    "        area = 0.5 * diagonal1 * diagonal2\n",
    "        print(f\"The area of the rhombus is: {area}\")\n",
    "\n",
    "    def parallelogram(self, base, altitude):\n",
    "        area = base * altitude\n",
    "        print(f\"The area of the parallelogram is: {area}\")\n",
    "\n",
    "    def cube(self, length):\n",
    "        area = 6 * (length ** 2)\n",
    "        print(f\"The area of the cube is: {area}\")\n",
    "\n",
    "    def cylinder(self, radius, height):\n",
    "        pie = 22 / 7\n",
    "        area = pie * (radius ** 2) * height\n",
    "        print(f\"The area of the cylinder is: {area}\")\n",
    "\n",
    "\n",
    "print(\"Areas of shapes calulator\")\n",
    "user_input = Calculator()\n",
    "decision = int(input(\"Choose a shape: \\n1.)Trapezium \\n2.)Rhombus \\n3.Parallelogram \\n4.)Cube \\n5.)Cylinder \\n\\n\"))\n",
    "\n",
    "if decision == 1 :\n",
    "    height = int(input(\"What is your height: \"))\n",
    "    base1 = int(input(\"What is your first base: \"))\n",
    "    base2 = int(input(\"What is your second base: \"))\n",
    "    user_input.trapezium(height, base1, base2)\n",
    "\n",
    "elif decision == 2 :\n",
    "    diagonal1 = int(input(\"What is your first diagonal: \"))\n",
    "    diagonal2 = int(input(\"What is your second diagonal: \"))\n",
    "    user_input.rhombus(diagonal1, diagonal2)\n",
    "\n",
    "elif decision == 3 :\n",
    "    base = int(input(\"What is your base: \"))\n",
    "    altitude = int(input(\"What is your altitude: \"))\n",
    "    user_input.parallelogram(base, altitude)\n",
    "\n",
    "elif decision == 4 :\n",
    "    length = int(input(\"What is your length: \"))\n",
    "    user_input.cube(length)\n",
    "\n",
    "elif decision == 5 :\n",
    "    radius = int(input(\"What is your radius: \"))\n",
    "    height = int(input(\"What is your height: \"))\n",
    "    user_input.cylinder(radius, height)\n",
    "\n",
    "else:\n",
    "    print(\"Invalid Input\")\n"
   ]
  },
  {
   "cell_type": "markdown",
   "id": "126f67af",
   "metadata": {},
   "source": [
    "# Project 3"
   ]
  },
  {
   "cell_type": "code",
   "execution_count": 7,
   "id": "780150b1",
   "metadata": {},
   "outputs": [
    {
     "name": "stdout",
     "output_type": "stream",
     "text": [
      "Nigerian Brewery Limited drink categories\n",
      "File was saved successfully\n"
     ]
    }
   ],
   "source": [
    "import pandas as pd\n",
    "\n",
    "class Brewery:\n",
    "    def save(self, records):\n",
    "        self.records = records\n",
    "        print(\"File was saved successfully\")\n",
    "\n",
    "print(\"Nigerian Brewery Limited drink categories\")\n",
    "\n",
    "records = {\n",
    "    'Lager': [\"33 Export\", \"Desperados\", \"Goldberg\", \"Gulder\", \"Heineken\", \"Star\"],\n",
    "    'Stout': [\"Legend\", \"Turbo King\", \"Williams\", \"\", \"\", \"\"],\n",
    "    'Non-Alcoholic': [\"Maltina\", \"Amstel Malta\", \"Malta Gold\", \"Fayrouz\", \"\", \"\"]\n",
    "}\n",
    "\n",
    "df = pd.DataFrame(records)\n",
    "df.to_csv('records.csv')\n",
    "\n",
    "file = Brewery()\n",
    "file.save(records)\n"
   ]
  },
  {
   "cell_type": "code",
   "execution_count": null,
   "id": "493620b9",
   "metadata": {},
   "outputs": [],
   "source": []
  }
 ],
 "metadata": {
  "kernelspec": {
   "display_name": "Python 3 (ipykernel)",
   "language": "python",
   "name": "python3"
  },
  "language_info": {
   "codemirror_mode": {
    "name": "ipython",
    "version": 3
   },
   "file_extension": ".py",
   "mimetype": "text/x-python",
   "name": "python",
   "nbconvert_exporter": "python",
   "pygments_lexer": "ipython3",
   "version": "3.10.9"
  }
 },
 "nbformat": 4,
 "nbformat_minor": 5
}

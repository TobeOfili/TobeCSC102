{
 "cells": [
  {
   "cell_type": "code",
   "execution_count": 5,
   "id": "9ee4be5e",
   "metadata": {},
   "outputs": [
    {
     "name": "stdout",
     "output_type": "stream",
     "text": [
      "JT Ventures employee verification system\n",
      "Please input your first name: Tobi\n",
      "Please input your surname in : Ogunlana\n",
      "Please input your department: Coffee\n",
      "There is no employee named Tobi OGUNLANA in the Coffee department.\n"
     ]
    }
   ],
   "source": [
    "import pandas as pd\n",
    "\n",
    "print(\"JT Ventures employee verification system\")\n",
    "firstname = input(\"Please input your first name: \")\n",
    "surname = input(\"Please input your surname in : \").upper()\n",
    "department = input (\"Please input your department: \")\n",
    "\n",
    "def employee_info(firstname, surname, department):\n",
    "    data = pd.read_csv(\"jt-ventures.csv\")\n",
    "    if ((data['FIRST NAME'] == firstname) & (data['SURNAME'] == surname) & (data['DEPARTMENT'] == department)).any():\n",
    "        print(f'Welcome {firstname} {surname} to the program! The Company Profile is displayed below.')\n",
    "        data = pd.read_csv(\"jt-ventures.csv\")\n",
    "        print(data)\n",
    "    else:\n",
    "        print(f'There is no employee named {firstname} {surname} in the {department} department.') \n",
    "    return\n",
    "\n",
    "employee_info(firstname, surname, department)\n",
    "\n"
   ]
  },
  {
   "cell_type": "code",
   "execution_count": 4,
   "id": "81ed9f9b",
   "metadata": {},
   "outputs": [
    {
     "name": "stdout",
     "output_type": "stream",
     "text": [
      "Welcome to Yeba Services\n",
      "How much does your package weigh in Kg:56\n",
      "Where do you want this package to be delivered?: Epe\n",
      "Your fee is N5,000\n"
     ]
    }
   ],
   "source": [
    "print(\"Welcome to Yeba Services\")\n",
    "weight = int(input(\"How much does your package weigh in Kg:\"))\n",
    "location = str(input(\"Where do you want this package to be delivered?: \"))\n",
    "\n",
    "def delivery_data(a,b):\n",
    "    \n",
    "    if a >= 10 and b == 'Ibeju-Lekki':\n",
    "            print(\"Your fee is N2,000\")\n",
    "    \n",
    "    elif a < 10 and b == 'Ibeju-Lekki':\n",
    "        print(\"Your fee is N1,500\")\n",
    "        \n",
    "    if a >= 10 and b == 'Epe':\n",
    "        print(\"Your fee is N5,000\")\n",
    "    \n",
    "    elif a < 10 and b == 'Epe':\n",
    "        print(\"Your fee is N4,000\")\n",
    "    else : print(\"Inavlid input\")\n",
    "    return\n",
    "delivery_data(weight,location)"
   ]
  },
  {
   "cell_type": "code",
   "execution_count": 6,
   "id": "d2454a95",
   "metadata": {},
   "outputs": [
    {
     "name": "stdout",
     "output_type": "stream",
     "text": [
      "Enter your name: Rasheed\n",
      "Enter JAMB score: 340\n",
      "Enter Your chosen course Computer Science(c) or Mass Communication(m): m\n",
      "Enter your number of credits: 4\n",
      "Did you pass the interview ?  no\n",
      "\n",
      "You will not be admitted as a Mass Communication undergraduate\n"
     ]
    }
   ],
   "source": [
    "import pandas as pd\n",
    "name = input(\"Enter your name: \")\n",
    "score = int(input(\"Enter JAMB score: \"))\n",
    "course = input(\"Enter Your chosen course Computer Science(c) or Mass Communication(m): \").lower()\n",
    "credits = int(input(\"Enter your number of credits: \"))\n",
    "interview = input(\"Did you pass the interview ?  \").lower()\n",
    "\n",
    "\n",
    "\n",
    "def computer_science_admissions(name, score, course, credits, interview):\n",
    "    if (course == \"c\") & (score >= 230) & (credits >= 5) & (interview == \"yes\"):\n",
    "        print(\"You have been admitted as a Computer Science undergraduate\")\n",
    "        record = {\"Name\" : [name], \"Course\" : [\"Computer Science\"], \"Score\" : [score] , \"Credits\" : [credits], \"Interview\" : [\"Passed\"]}\n",
    "        df = pd.DataFrame(record)\n",
    "        df.to_csv('admitted.csv')\n",
    "        \n",
    "    else : \n",
    "        print(\"You have been admitted as a Computer Science undergraduate\")\n",
    "        record = {\"Name\" : [name], \"Course\" : [\"Computer Science\"], \"Score\" : [score] , \"Credits\" : [credits], \"Interview\" : [\"Passed\"]}\n",
    "        df = pd.DataFrame(record)\n",
    "        df.to_csv('not-admitted.csv')\n",
    "        return\n",
    "    \n",
    "def mass_com_admissions(name, score, course, credits, interview):       \n",
    "    if (course == \"c\") & (score >= 230) & (credits >= 5) & (interview == \"yes\"):\n",
    "        print(\"You have been admitted as a Mass Communication undergraduate\")\n",
    "        record = {\"Name\" : [name], \"Course\" : [\"Mass Communication\"], \"Score\" : [score] , \"Credits\" : [credits], \"Interview\" : [\"Failed\"]}\n",
    "        df = pd.DataFrame(record)\n",
    "        df.to_csv('admitted.csv')\n",
    "    else  :\n",
    "        print(\"\\nYou will not be admitted as a Mass Communication undergraduate\")\n",
    "        record = {\"Name\" : [name], \"Course\" : [\"Mass Communication\"], \"Score\" : [score] , \"Credits\" : [credits], \"Interview\" : [\"Failed\"]}\n",
    "        df = pd.DataFrame(record)\n",
    "        df.to_csv('not-admitted.csv')\n",
    "        return\n",
    "    \n",
    "if course == \"c\" :\n",
    "    computer_science_admissions(name, score, course, credits, interview)    \n",
    "elif course == \"m\" :\n",
    "    mass_com_admissions(name, score, course, credits, interview)\n",
    "else : print(\"Invalid Input\")\n",
    " "
   ]
  },
  {
   "cell_type": "code",
   "execution_count": null,
   "id": "22271bdf",
   "metadata": {},
   "outputs": [],
   "source": []
  }
 ],
 "metadata": {
  "kernelspec": {
   "display_name": "Python 3 (ipykernel)",
   "language": "python",
   "name": "python3"
  },
  "language_info": {
   "codemirror_mode": {
    "name": "ipython",
    "version": 3
   },
   "file_extension": ".py",
   "mimetype": "text/x-python",
   "name": "python",
   "nbconvert_exporter": "python",
   "pygments_lexer": "ipython3",
   "version": "3.10.9"
  }
 },
 "nbformat": 4,
 "nbformat_minor": 5
}

{
 "cells": [
  {
   "cell_type": "code",
   "execution_count": 4,
   "id": "da9ea2e6",
   "metadata": {},
   "outputs": [
    {
     "name": "stdout",
     "output_type": "stream",
     "text": [
      "Enter your name: Mary Evans\n",
      "Your attendance has been taken\n",
      "Your task is Reveiwing Orders\n"
     ]
    }
   ],
   "source": [
    "import random\n",
    "\n",
    "class Employee():\n",
    "    employees = [\"Mary Evans\", \"Eyo Ishan\", \"Durojaiye Dare\", \"Adams Ali\", \"Andrew Ugwu\", \n",
    "                 \"Stella Mankinde\", \"Jane Akibo\", \"Ago James\",\"Michell Taiwo\", \"Abraham Jones\" ,\n",
    "                 \"Nicole Anide\", \"Kosi Korso\", \"Adele Martins\", \"Emmanuel Ojo\", \"Ajayi Fatima\"]\n",
    "   \n",
    "    tasks = [\"Loading\", \"Transporting\", \"Reveiwing Orders\", \"Customer Service\", \"Delivering Items\"]\n",
    "    \n",
    "    def __init__(self,name):\n",
    "        self.name = name\n",
    "        \n",
    "    def take_attendance(self):\n",
    "        print(\"Your attendance has been taken\")\n",
    "        \n",
    "    def assign_task(self):\n",
    "        task =  Employee.tasks[random.randint(0,4)]\n",
    "        print(\"Your task is {}\".format(task))\n",
    "    \n",
    "    def refuse_access(self):\n",
    "        print(\"Access denied \")\n",
    "        \n",
    "    def check_employee(self):\n",
    "        if self.name in Employee.employees:\n",
    "            self.take_attendance()\n",
    "            self.assign_task()\n",
    "        else:\n",
    "            self.refuse_access()\n",
    "            \n",
    "name = Employee(input(\"Enter your name: \"))\n",
    "check_name = name\n",
    "check_name.check_employee()\n",
    "\n"
   ]
  },
  {
   "cell_type": "code",
   "execution_count": 8,
   "id": "8d82d5ab",
   "metadata": {},
   "outputs": [
    {
     "name": "stdout",
     "output_type": "stream",
     "text": [
      "Enter delivery location: epe\n",
      "Enter package weight (kg): 12\n",
      "The cost of your delivery is N5000\n"
     ]
    }
   ],
   "source": [
    "class Delivery_Service:\n",
    "    def __init__(self, location, weight):\n",
    "        self.location = location\n",
    "        self.weight = weight\n",
    "    \n",
    "    def cost(self):\n",
    "        if (self.location == \"PAU\") & (self.weight >= 10):\n",
    "            print(\"The cost of your delivery is N2000\")\n",
    "            \n",
    "        elif (self.location == \"PAU\") & (self.weight < 10):\n",
    "            print(\"The cost of your delivery is N1500\")\n",
    "            \n",
    "        elif (self.location == \"EPE\") & (self.weight >= 10):\n",
    "            print(\"The cost of your delivery is N5000\")\n",
    "            \n",
    "        elif (self.location == \"EPE\") & (self.weight < 10):\n",
    "            print(\"The cost of your delivery is N4000\")\n",
    "            \n",
    "        else:\n",
    "            print(\"We are not currently delivering to this location.\")\n",
    "\n",
    "location = input(\"Enter delivery location: \").upper()\n",
    "weight = float(input(\"Enter package weight (kg): \"))\n",
    "\n",
    "Delivery_Details = Delivery_Service(location, weight)\n",
    "Delivery_Cost = Delivery_Details.cost()"
   ]
  },
  {
   "cell_type": "code",
   "execution_count": null,
   "id": "9fd08b3a",
   "metadata": {},
   "outputs": [],
   "source": []
  }
 ],
 "metadata": {
  "kernelspec": {
   "display_name": "Python 3 (ipykernel)",
   "language": "python",
   "name": "python3"
  },
  "language_info": {
   "codemirror_mode": {
    "name": "ipython",
    "version": 3
   },
   "file_extension": ".py",
   "mimetype": "text/x-python",
   "name": "python",
   "nbconvert_exporter": "python",
   "pygments_lexer": "ipython3",
   "version": "3.10.9"
  }
 },
 "nbformat": 4,
 "nbformat_minor": 5
}

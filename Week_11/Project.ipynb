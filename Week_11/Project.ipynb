{
 "cells": [
  {
   "cell_type": "code",
   "execution_count": 6,
   "id": "2d18f32e",
   "metadata": {},
   "outputs": [
    {
     "name": "stdout",
     "output_type": "stream",
     "text": [
      "What file would you like to view?\n",
      "1.) The Pirates\n",
      "2.) The Yankees\n",
      "3.) The Bulls\n",
      "Press 1, 2, or 3: 3\n",
      "Welcome to SIS\n",
      "\n",
      "The_Bulls.csv file has been created.\n"
     ]
    }
   ],
   "source": [
    "import pandas as pd\n",
    "\n",
    "class SIS:\n",
    "    def __init__(self):\n",
    "        print(\"Welcome to SIS\")\n",
    "        self.data = pd.read_csv(\"sis.csv\")\n",
    "    \n",
    "    def pirates(self):\n",
    "        student_data = self.data[(self.data['Age'] > 14) & (self.data['Age'] < 18)]\n",
    "        student_data.to_csv('The_Pirates.csv')\n",
    "\n",
    "    def yankees(self):\n",
    "        student_data = self.data[(self.data['Age'] > 18) & (self.data['Age'] < 22)]\n",
    "        student_data.to_csv('The_Yankees.csv')    \n",
    "    \n",
    "    def bulls(self):\n",
    "        student_data = self.data[self.data['Age'] > 22]\n",
    "        student_data.to_csv('The_Bulls.csv')\n",
    "    \n",
    "    def show(self, decision):\n",
    "        if decision == 1:\n",
    "            self.pirates()\n",
    "            print(\"\\nThe_Pirates.csv file has been created.\")\n",
    "        elif decision == 2 : \n",
    "            self.yankees()\n",
    "            print(\"\\nThe_Yankees.csv file has been created.\")\n",
    "        elif decision == 3 : \n",
    "            self.bulls()\n",
    "            print(\"\\nThe_Bulls.csv file has been created.\")\n",
    "        else: \n",
    "            print(\"Invalid Input\")\n",
    "            \n",
    "decision = int(input(\"What file would you like to view?\\n1.) The Pirates\\n2.) The Yankees\\n3.) The Bulls\\nPress 1, 2, or 3: \"))\n",
    "\n",
    "sis_object = SIS()\n",
    "sis_object.show(decision)\n"
   ]
  },
  {
   "cell_type": "code",
   "execution_count": null,
   "id": "8104c74d",
   "metadata": {},
   "outputs": [],
   "source": []
  }
 ],
 "metadata": {
  "kernelspec": {
   "display_name": "Python 3 (ipykernel)",
   "language": "python",
   "name": "python3"
  },
  "language_info": {
   "codemirror_mode": {
    "name": "ipython",
    "version": 3
   },
   "file_extension": ".py",
   "mimetype": "text/x-python",
   "name": "python",
   "nbconvert_exporter": "python",
   "pygments_lexer": "ipython3",
   "version": "3.10.9"
  }
 },
 "nbformat": 4,
 "nbformat_minor": 5
}
